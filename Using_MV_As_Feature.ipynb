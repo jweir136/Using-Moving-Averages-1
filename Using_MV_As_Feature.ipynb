{
  "nbformat": 4,
  "nbformat_minor": 0,
  "metadata": {
    "colab": {
      "name": "Using_MV_As_Feature.ipynb",
      "version": "0.3.2",
      "provenance": [],
      "collapsed_sections": [],
      "include_colab_link": true
    },
    "kernelspec": {
      "name": "python3",
      "display_name": "Python 3"
    }
  },
  "cells": [
    {
      "cell_type": "markdown",
      "metadata": {
        "id": "view-in-github",
        "colab_type": "text"
      },
      "source": [
        "<a href=\"https://colab.research.google.com/github/jweir136/Using-Moving-Averages-1/blob/master/Using_MV_As_Feature.ipynb\" target=\"_parent\"><img src=\"https://colab.research.google.com/assets/colab-badge.svg\" alt=\"Open In Colab\"/></a>"
      ]
    },
    {
      "metadata": {
        "id": "cNf4i3r8cwJG",
        "colab_type": "text"
      },
      "cell_type": "markdown",
      "source": [
        "# Using Moving Average of a Feature"
      ]
    },
    {
      "metadata": {
        "id": "QLqv5NDdc0Wj",
        "colab_type": "text"
      },
      "cell_type": "markdown",
      "source": [
        "The following notebook is an example of how to use the moving average as a feature in a time series problem.  This example uses the historic stock price of $XOM.\n",
        "\n",
        "***Be sure to read the comments in the code.***"
      ]
    },
    {
      "metadata": {
        "id": "PCpiLmyPWHic",
        "colab_type": "code",
        "colab": {}
      },
      "cell_type": "code",
      "source": [
        "# Start by importing the required packages.\n",
        "# also be sure to set matplotlib to inline so that it can be viewed in the notebook.\n",
        "\n",
        "import pandas as pd\n",
        "import matplotlib.pyplot as plt\n",
        "from sklearn.metrics import mean_squared_error\n",
        "from sklearn.model_selection import learning_curve\n",
        "from sklearn.linear_model import LinearRegression\n",
        "from sklearn.ensemble import RandomForestRegressor\n",
        "import numpy as np\n",
        "from statsmodels.graphics.tsaplots import plot_acf\n",
        "\n",
        "%matplotlib inline"
      ],
      "execution_count": 0,
      "outputs": []
    },
    {
      "metadata": {
        "id": "dBIfyzaQdi3w",
        "colab_type": "text"
      },
      "cell_type": "markdown",
      "source": [
        "## Preparing the Data"
      ]
    },
    {
      "metadata": {
        "id": "YsHbfvYZdmWX",
        "colab_type": "text"
      },
      "cell_type": "markdown",
      "source": [
        "These are the steps required before the features can be created and modeled."
      ]
    },
    {
      "metadata": {
        "id": "XqjlwBAQWMrF",
        "colab_type": "code",
        "colab": {}
      },
      "cell_type": "code",
      "source": [
        "# Add the data from the csv file. Be sure to parse the dates.\n",
        "\n",
        "data = pd.read_csv(\"XOM.csv\", parse_dates=['date'])"
      ],
      "execution_count": 0,
      "outputs": []
    },
    {
      "metadata": {
        "id": "fkZaAlQ8WPR3",
        "colab_type": "code",
        "colab": {}
      },
      "cell_type": "code",
      "source": [
        "# Set the index of the DF to the dates. This helps for graphing, as the x-axis labels will be the dates.\n",
        "\n",
        "data.set_index(\"date\", drop=True, inplace=True)"
      ],
      "execution_count": 0,
      "outputs": []
    },
    {
      "metadata": {
        "id": "AljWi65TWS-J",
        "colab_type": "code",
        "colab": {}
      },
      "cell_type": "code",
      "source": [
        "\"\"\"\n",
        "  Now we only want to use the close values for this tutorial. This is called a univariate time series problem.\n",
        "  To do this, we are going to set the DF equal to the only column in the DF that we want to use, the closing prices.\n",
        "\"\"\"\n",
        "\n",
        "data = data['close']"
      ],
      "execution_count": 0,
      "outputs": []
    },
    {
      "metadata": {
        "id": "vCEhdEfFeytJ",
        "colab_type": "code",
        "outputId": "2d8b0b21-2c27-44c8-b648-e42ed2bb0dd0",
        "colab": {
          "base_uri": "https://localhost:8080/",
          "height": 221
        }
      },
      "cell_type": "code",
      "source": [
        "# Now let's look at the new DF.\n",
        "\n",
        "data.head(10)"
      ],
      "execution_count": 0,
      "outputs": [
        {
          "output_type": "execute_result",
          "data": {
            "text/plain": [
              "date\n",
              "2014-01-13    82.0299\n",
              "2014-01-14    82.5043\n",
              "2014-01-15    82.2213\n",
              "2014-01-16    82.3545\n",
              "2014-01-17    82.5376\n",
              "2014-01-21    81.9883\n",
              "2014-01-22    81.4722\n",
              "2014-01-23    80.7147\n",
              "2014-01-24    78.9501\n",
              "2014-01-27    79.0084\n",
              "Name: close, dtype: float64"
            ]
          },
          "metadata": {
            "tags": []
          },
          "execution_count": 177
        }
      ]
    },
    {
      "metadata": {
        "id": "Qa5b52_ofAXY",
        "colab_type": "code",
        "colab": {}
      },
      "cell_type": "code",
      "source": [
        "\"\"\"\n",
        "  Now looking at the data, we see a problem here.\n",
        "  The frequency that the data is sampled isn't very constant.\n",
        "  This is normal for stocks considering that the market isn't open every day.\n",
        "  But this can cause problems for our model.\n",
        "  To solve this, we are going to instead use the mean of every month as our data.\n",
        "\"\"\"\n",
        "\n",
        "data = data.resample(\"MS\").mean()"
      ],
      "execution_count": 0,
      "outputs": []
    },
    {
      "metadata": {
        "id": "zoLJIU0p2tef",
        "colab_type": "code",
        "colab": {}
      },
      "cell_type": "code",
      "source": [
        "\"\"\"\n",
        "  Now that we have our resampled data, we want to try to decide if this time series problem can even be solved this way.\n",
        "  This is called autocorrelation. If there is a high autocorrelation, then that means that this problem is suitable for time series.\n",
        "  To find the autocorrelation we can use `pd.autocorr()`, or if we want to graph it we can use the statsmodels `plot_acf` function.\n",
        "\"\"\""
      ],
      "execution_count": 0,
      "outputs": []
    },
    {
      "metadata": {
        "id": "Nc1dHgS4WYe9",
        "colab_type": "code",
        "colab": {}
      },
      "cell_type": "code",
      "source": [
        "data = data - data.shift(1)"
      ],
      "execution_count": 0,
      "outputs": []
    },
    {
      "metadata": {
        "id": "PAMBtXsmWbPB",
        "colab_type": "code",
        "colab": {}
      },
      "cell_type": "code",
      "source": [
        "features = data.copy()\n",
        "outputs = data.copy()"
      ],
      "execution_count": 0,
      "outputs": []
    },
    {
      "metadata": {
        "id": "zrfTwGmoWgjl",
        "colab_type": "code",
        "colab": {}
      },
      "cell_type": "code",
      "source": [
        "features = features.shift(1)"
      ],
      "execution_count": 0,
      "outputs": []
    },
    {
      "metadata": {
        "id": "m-kUwh7bWjPY",
        "colab_type": "code",
        "colab": {}
      },
      "cell_type": "code",
      "source": [
        "outputs = outputs.shift(1)"
      ],
      "execution_count": 0,
      "outputs": []
    },
    {
      "metadata": {
        "id": "pHpfUIi0Wk4p",
        "colab_type": "code",
        "colab": {}
      },
      "cell_type": "code",
      "source": [
        "outputs = outputs.rolling(3).mean()"
      ],
      "execution_count": 0,
      "outputs": []
    },
    {
      "metadata": {
        "id": "OXsFie8tWnwm",
        "colab_type": "code",
        "outputId": "65bbacc1-886f-43ae-8139-e66c5b2e5359",
        "colab": {
          "base_uri": "https://localhost:8080/",
          "height": 296
        }
      },
      "cell_type": "code",
      "source": [
        "outputs.plot(color='red')\n",
        "features.plot(color='blue')"
      ],
      "execution_count": 0,
      "outputs": [
        {
          "output_type": "execute_result",
          "data": {
            "text/plain": [
              "<matplotlib.axes._subplots.AxesSubplot at 0x7fca550b70f0>"
            ]
          },
          "metadata": {
            "tags": []
          },
          "execution_count": 185
        },
        {
          "output_type": "display_data",
          "data": {
            "image/png": "[encoded data removed]",
            "text/plain": [
              "<matplotlib.figure.Figure at 0x7fca5512a630>"
            ]
          },
          "metadata": {
            "tags": []
          }
        }
      ]
    },
    {
      "metadata": {
        "id": "uAdpkysAYEUv",
        "colab_type": "code",
        "colab": {}
      },
      "cell_type": "code",
      "source": [
        "trainX = features[:round(len(features) * .75)]\n",
        "testX = features[round(len(features) * .75):]\n",
        "trainY = outputs[:round(len(outputs) * .75)]\n",
        "testY = outputs[round(len(outputs) * .75):]"
      ],
      "execution_count": 0,
      "outputs": []
    },
    {
      "metadata": {
        "id": "JS-8ruafYm9Q",
        "colab_type": "code",
        "outputId": "6b47b797-a66f-4113-d2d2-cb8c5964b5e4",
        "colab": {
          "base_uri": "https://localhost:8080/",
          "height": 34
        }
      },
      "cell_type": "code",
      "source": [
        "trainX.shape, testX.shape, trainY.shape, testY.shape"
      ],
      "execution_count": 0,
      "outputs": [
        {
          "output_type": "execute_result",
          "data": {
            "text/plain": [
              "((46,), (15,), (46,), (15,))"
            ]
          },
          "metadata": {
            "tags": []
          },
          "execution_count": 187
        }
      ]
    },
    {
      "metadata": {
        "id": "o3is_FMZZCc8",
        "colab_type": "code",
        "colab": {}
      },
      "cell_type": "code",
      "source": [
        "trainX.fillna(method='backfill', inplace=True)\n",
        "trainY.fillna(method='backfill', inplace=True)\n",
        "testX.fillna(method='backfill', inplace=True)\n",
        "testY.fillna(method='backfill', inplace=True)"
      ],
      "execution_count": 0,
      "outputs": []
    },
    {
      "metadata": {
        "id": "t35_Q44cZNBH",
        "colab_type": "code",
        "outputId": "07eb3d21-cb9c-442e-8158-07a52d6a0643",
        "colab": {
          "base_uri": "https://localhost:8080/",
          "height": 105
        }
      },
      "cell_type": "code",
      "source": [
        "lr = RandomForestRegressor().fit(trainX.values.reshape(-1, 1), trainY.values.reshape(-1, 1))"
      ],
      "execution_count": 0,
      "outputs": [
        {
          "output_type": "stream",
          "text": [
            "/usr/local/lib/python3.6/dist-packages/sklearn/ensemble/forest.py:246: FutureWarning: The default value of n_estimators will change from 10 in version 0.20 to 100 in 0.22.\n",
            "  \"10 in version 0.20 to 100 in 0.22.\", FutureWarning)\n",
            "/usr/local/lib/python3.6/dist-packages/ipykernel_launcher.py:1: DataConversionWarning: A column-vector y was passed when a 1d array was expected. Please change the shape of y to (n_samples,), for example using ravel().\n",
            "  \"\"\"Entry point for launching an IPython kernel.\n"
          ],
          "name": "stderr"
        }
      ]
    },
    {
      "metadata": {
        "id": "kGSzh7-EZfFM",
        "colab_type": "code",
        "outputId": "dfd59f11-f1b7-4655-8b5b-340524396ef0",
        "colab": {
          "base_uri": "https://localhost:8080/",
          "height": 34
        }
      },
      "cell_type": "code",
      "source": [
        "np.sqrt(mean_squared_error(testY.values.reshape(-1, 1), lr.predict(testX.values.reshape(-1, 1))))"
      ],
      "execution_count": 0,
      "outputs": [
        {
          "output_type": "execute_result",
          "data": {
            "text/plain": [
              "2.116938295518003"
            ]
          },
          "metadata": {
            "tags": []
          },
          "execution_count": 190
        }
      ]
    },
    {
      "metadata": {
        "id": "VRNn4xD5ZvGo",
        "colab_type": "code",
        "colab": {}
      },
      "cell_type": "code",
      "source": [
        "preds = lr.predict(testX.values.reshape(-1, 1))"
      ],
      "execution_count": 0,
      "outputs": []
    },
    {
      "metadata": {
        "id": "uNN_wTFnZ1Pr",
        "colab_type": "code",
        "outputId": "96a6d5a9-265a-4ac7-d1aa-d2c7cae3744e",
        "colab": {
          "base_uri": "https://localhost:8080/",
          "height": 282
        }
      },
      "cell_type": "code",
      "source": [
        "plt.plot([a for a in range(len(preds))], preds, label='model')\n",
        "plt.plot([a for a in range(len(testX))], testY, label='actual')\n",
        "plt.legend()"
      ],
      "execution_count": 0,
      "outputs": [
        {
          "output_type": "execute_result",
          "data": {
            "text/plain": [
              "<matplotlib.legend.Legend at 0x7fca54f73cf8>"
            ]
          },
          "metadata": {
            "tags": []
          },
          "execution_count": 192
        },
        {
          "output_type": "display_data",
          "data": {
            "image/png": "[encoded data removed]",
            "text/plain": [
              "<matplotlib.figure.Figure at 0x7fca54feaac8>"
            ]
          },
          "metadata": {
            "tags": []
          }
        }
      ]
    }
  ]
}