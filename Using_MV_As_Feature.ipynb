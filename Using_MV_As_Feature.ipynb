{
  "nbformat": 4,
  "nbformat_minor": 0,
  "metadata": {
    "colab": {
      "name": "Using_MV_As_Feature.ipynb",
      "version": "0.3.2",
      "provenance": [],
      "collapsed_sections": [],
      "toc_visible": true,
      "include_colab_link": true
    },
    "kernelspec": {
      "name": "python3",
      "display_name": "Python 3"
    }
  },
  "cells": [
    {
      "cell_type": "markdown",
      "metadata": {
        "id": "view-in-github",
        "colab_type": "text"
      },
      "source": [
        "<a href=\"https://colab.research.google.com/github/jweir136/Using-Moving-Averages-1/blob/master/Using_MV_As_Feature.ipynb\" target=\"_parent\"><img src=\"https://colab.research.google.com/assets/colab-badge.svg\" alt=\"Open In Colab\"/></a>"
      ]
    },
    {
      "metadata": {
        "id": "cNf4i3r8cwJG",
        "colab_type": "text"
      },
      "cell_type": "markdown",
      "source": [
        "# Using Moving Average as a Feature"
      ]
    },
    {
      "metadata": {
        "id": "QLqv5NDdc0Wj",
        "colab_type": "text"
      },
      "cell_type": "markdown",
      "source": [
        "The following notebook is an example of how to use the moving average as a feature in a time series problem.  This example uses the historic stock price of $XOM.\n",
        "\n",
        "***Be sure to read the comments in the code.***"
      ]
    },
    {
      "metadata": {
        "id": "PCpiLmyPWHic",
        "colab_type": "code",
        "colab": {
          "base_uri": "https://localhost:8080/",
          "height": 71
        },
        "outputId": "7b5b24fb-1e69-4385-ba25-c818f2b3eb0a"
      },
      "cell_type": "code",
      "source": [
        "# Start by importing the required packages.\n",
        "# also be sure to set matplotlib to inline so that it can be viewed in the notebook.\n",
        "\n",
        "import pandas as pd\n",
        "import matplotlib.pyplot as plt\n",
        "from sklearn.metrics import mean_squared_error\n",
        "from sklearn.model_selection import learning_curve\n",
        "from sklearn.linear_model import LinearRegression\n",
        "from sklearn.ensemble import RandomForestRegressor\n",
        "import numpy as np\n",
        "from statsmodels.graphics.tsaplots import plot_acf\n",
        "\n",
        "%matplotlib inline"
      ],
      "execution_count": 1,
      "outputs": [
        {
          "output_type": "stream",
          "text": [
            "/usr/local/lib/python3.6/dist-packages/statsmodels/compat/pandas.py:56: FutureWarning: The pandas.core.datetools module is deprecated and will be removed in a future version. Please use the pandas.tseries module instead.\n",
            "  from pandas.core import datetools\n"
          ],
          "name": "stderr"
        }
      ]
    },
    {
      "metadata": {
        "id": "dBIfyzaQdi3w",
        "colab_type": "text"
      },
      "cell_type": "markdown",
      "source": [
        "## Preparing the Data"
      ]
    },
    {
      "metadata": {
        "id": "YsHbfvYZdmWX",
        "colab_type": "text"
      },
      "cell_type": "markdown",
      "source": [
        "These are the steps required before the features can be created and modeled."
      ]
    },
    {
      "metadata": {
        "id": "XqjlwBAQWMrF",
        "colab_type": "code",
        "colab": {}
      },
      "cell_type": "code",
      "source": [
        "# Add the data from the csv file. Be sure to parse the dates.\n",
        "\n",
        "data = pd.read_csv(\"XOM.csv\", parse_dates=['date'])"
      ],
      "execution_count": 0,
      "outputs": []
    },
    {
      "metadata": {
        "id": "fkZaAlQ8WPR3",
        "colab_type": "code",
        "colab": {}
      },
      "cell_type": "code",
      "source": [
        "# Set the index of the DF to the dates. This helps for graphing, as the x-axis labels will be the dates.\n",
        "\n",
        "data.set_index(\"date\", drop=True, inplace=True)"
      ],
      "execution_count": 0,
      "outputs": []
    },
    {
      "metadata": {
        "id": "AljWi65TWS-J",
        "colab_type": "code",
        "colab": {}
      },
      "cell_type": "code",
      "source": [
        "\"\"\"\n",
        "  Now we only want to use the close values for this tutorial. This is called a univariate time series problem.\n",
        "  To do this, we are going to set the DF equal to the only column in the DF that we want to use, the closing prices.\n",
        "\"\"\"\n",
        "\n",
        "data = data['close']"
      ],
      "execution_count": 0,
      "outputs": []
    },
    {
      "metadata": {
        "id": "vCEhdEfFeytJ",
        "colab_type": "code",
        "outputId": "41bcde00-0cd0-40f0-8770-cc13681ba227",
        "colab": {
          "base_uri": "https://localhost:8080/",
          "height": 221
        }
      },
      "cell_type": "code",
      "source": [
        "# Now let's look at the new DF.\n",
        "\n",
        "data.head(10)"
      ],
      "execution_count": 5,
      "outputs": [
        {
          "output_type": "execute_result",
          "data": {
            "text/plain": [
              "date\n",
              "2014-01-13    82.0299\n",
              "2014-01-14    82.5043\n",
              "2014-01-15    82.2213\n",
              "2014-01-16    82.3545\n",
              "2014-01-17    82.5376\n",
              "2014-01-21    81.9883\n",
              "2014-01-22    81.4722\n",
              "2014-01-23    80.7147\n",
              "2014-01-24    78.9501\n",
              "2014-01-27    79.0084\n",
              "Name: close, dtype: float64"
            ]
          },
          "metadata": {
            "tags": []
          },
          "execution_count": 5
        }
      ]
    },
    {
      "metadata": {
        "id": "Qa5b52_ofAXY",
        "colab_type": "code",
        "colab": {}
      },
      "cell_type": "code",
      "source": [
        "\"\"\"\n",
        "  Now looking at the data, we see a problem here.\n",
        "  The frequency that the data is sampled isn't very constant.\n",
        "  This is normal for stocks considering that the market isn't open every day.\n",
        "  But this can cause problems for our model.\n",
        "  To solve this, we are going to instead use the mean of every month as our data.\n",
        "\"\"\"\n",
        "\n",
        "data = data.resample(\"MS\").mean()"
      ],
      "execution_count": 0,
      "outputs": []
    },
    {
      "metadata": {
        "id": "Qw5X90waPuEd",
        "colab_type": "code",
        "colab": {
          "base_uri": "https://localhost:8080/",
          "height": 543
        },
        "outputId": "5165946b-120c-41ac-f7e2-328b2d52fe0a"
      },
      "cell_type": "code",
      "source": [
        "\"\"\"\n",
        "  Now that we have our resampled data, we want to try to decide if this time series problem can even be solved this way.\n",
        "  This is called autocorrelation. If there is a high autocorrelation, then that means that this problem is suitable for time series.\n",
        "  To find the autocorrelation we can use `pd.autocorr()`, or if we want to graph it we can use the statsmodels `plot_acf` function.\n",
        "\"\"\"\n",
        "\n",
        "plot_acf(data)"
      ],
      "execution_count": 7,
      "outputs": [
        {
          "output_type": "execute_result",
          "data": {
            "image/png": "[encoded data removed]",
            "text/plain": [
              "<matplotlib.figure.Figure at 0x7f6a2976c400>"
            ]
          },
          "metadata": {
            "tags": []
          },
          "execution_count": 7
        },
        {
          "output_type": "display_data",
          "data": {
            "image/png": "[encoded data removed]",
            "text/plain": [
              "<matplotlib.figure.Figure at 0x7f6a2976c400>"
            ]
          },
          "metadata": {
            "tags": []
          }
        }
      ]
    },
    {
      "metadata": {
        "id": "1J4Lm55YRcbc",
        "colab_type": "text"
      },
      "cell_type": "markdown",
      "source": [
        "By the looks of the plot, using lag variables from 1 to 3 may be significant.  However, anything past that.  So, we are going to use lag 1 since it had the highest correlation (zero does not count).\n",
        "For more information on autocorrelation you can read up on it [here](https://en.wikipedia.org/wiki/Autocorrelation).\n",
        "\n",
        "Now that we know that our autocorrelation is high enough to be able to predict using univariate time series, we want to remove any trend or seasonality in the data.  We will do this by differencing the data.\n"
      ]
    },
    {
      "metadata": {
        "id": "B0K1LqG-UZ_k",
        "colab_type": "code",
        "colab": {}
      },
      "cell_type": "code",
      "source": [
        "# Difference the data to remove any trend.\n",
        "\n",
        "data = data - data.shift(1)"
      ],
      "execution_count": 0,
      "outputs": []
    },
    {
      "metadata": {
        "id": "oonoUvVtVPok",
        "colab_type": "text"
      },
      "cell_type": "markdown",
      "source": [
        "Now that we have removed the trend, we can create the moving average feature.  To start, we are going to create 2 copies of the data.  The first one will be the features, and the second one will be the y-values."
      ]
    },
    {
      "metadata": {
        "id": "PAMBtXsmWbPB",
        "colab_type": "code",
        "colab": {}
      },
      "cell_type": "code",
      "source": [
        "features = data.copy()\n",
        "outputs = data.copy()"
      ],
      "execution_count": 0,
      "outputs": []
    },
    {
      "metadata": {
        "id": "-IyFGmn1WPxc",
        "colab_type": "text"
      },
      "cell_type": "markdown",
      "source": [
        "Now, in order to use MV as a feature, we first need to take the first copy of the data and shift it by 1.  This will be our features dataset.  It is important to shift it by one, since doing so ensures that we don't leak any data.  Next, we are going to take our output data, and shift it by the window that we intend to use for the rolling average minus 1.  So, since this example has a window of 3, we will want to shift our outputs by 3-1 = 2.  Lastly, we are going to take the rolling mean of the new outputs."
      ]
    },
    {
      "metadata": {
        "id": "zrfTwGmoWgjl",
        "colab_type": "code",
        "colab": {}
      },
      "cell_type": "code",
      "source": [
        "features = features.shift(1)"
      ],
      "execution_count": 0,
      "outputs": []
    },
    {
      "metadata": {
        "id": "m-kUwh7bWjPY",
        "colab_type": "code",
        "colab": {}
      },
      "cell_type": "code",
      "source": [
        "outputs = outputs.shift(2)"
      ],
      "execution_count": 0,
      "outputs": []
    },
    {
      "metadata": {
        "id": "pHpfUIi0Wk4p",
        "colab_type": "code",
        "colab": {}
      },
      "cell_type": "code",
      "source": [
        "outputs = outputs.rolling(3).mean()"
      ],
      "execution_count": 0,
      "outputs": []
    },
    {
      "metadata": {
        "id": "OXsFie8tWnwm",
        "colab_type": "code",
        "outputId": "63b50c3a-9991-4f28-9cc6-101238bbfe7e",
        "colab": {
          "base_uri": "https://localhost:8080/",
          "height": 296
        }
      },
      "cell_type": "code",
      "source": [
        "# Plot the features vs. the outputs.\n",
        "\n",
        "outputs.plot(color='red')\n",
        "features.plot(color='blue')"
      ],
      "execution_count": 13,
      "outputs": [
        {
          "output_type": "execute_result",
          "data": {
            "text/plain": [
              "<matplotlib.axes._subplots.AxesSubplot at 0x7f6a20c5be48>"
            ]
          },
          "metadata": {
            "tags": []
          },
          "execution_count": 13
        },
        {
          "output_type": "display_data",
          "data": {
            "image/png": "[encoded data removed]",
            "text/plain": [
              "<matplotlib.figure.Figure at 0x7f6a20c4aa90>"
            ]
          },
          "metadata": {
            "tags": []
          }
        }
      ]
    },
    {
      "metadata": {
        "id": "C9RQezFsYKHu",
        "colab_type": "text"
      },
      "cell_type": "markdown",
      "source": [
        "Now that we have created our features and outputs, we want to split our data into training and test sets.  Keep in mind that we have to keep our data in order, since in time series order is everything."
      ]
    },
    {
      "metadata": {
        "id": "uAdpkysAYEUv",
        "colab_type": "code",
        "colab": {}
      },
      "cell_type": "code",
      "source": [
        "trainX = features[:round(len(features) * .75)]\n",
        "testX = features[round(len(features) * .75):]\n",
        "trainY = outputs[:round(len(outputs) * .75)]\n",
        "testY = outputs[round(len(outputs) * .75):]"
      ],
      "execution_count": 0,
      "outputs": []
    },
    {
      "metadata": {
        "id": "o3is_FMZZCc8",
        "colab_type": "code",
        "colab": {}
      },
      "cell_type": "code",
      "source": [
        "# Fill in any of the missing values.\n",
        "\n",
        "trainX.fillna(method='backfill', inplace=True)\n",
        "trainY.fillna(method='backfill', inplace=True)\n",
        "testX.fillna(method='backfill', inplace=True)\n",
        "testY.fillna(method='backfill', inplace=True)"
      ],
      "execution_count": 0,
      "outputs": []
    },
    {
      "metadata": {
        "id": "jTwLyDZrZSPL",
        "colab_type": "text"
      },
      "cell_type": "markdown",
      "source": [
        "Now from here we have created our features, we can move on creating and training a model.  For this example we are going to use Random Forest Regression.  Now, if this was not just an example for feature engineering, we would try and test a wide range of models in order to find the best one."
      ]
    },
    {
      "metadata": {
        "id": "9DrIBwSCmGNr",
        "colab_type": "text"
      },
      "cell_type": "markdown",
      "source": [
        "## Creating the Model"
      ]
    },
    {
      "metadata": {
        "id": "t35_Q44cZNBH",
        "colab_type": "code",
        "outputId": "077f1134-bd66-4078-bae1-b866ccfe55f1",
        "colab": {
          "base_uri": "https://localhost:8080/",
          "height": 105
        }
      },
      "cell_type": "code",
      "source": [
        "rf = RandomForestRegressor(n_jobs=-1).fit(trainX.values.reshape(-1, 1), trainY.values.reshape(-1, 1))"
      ],
      "execution_count": 16,
      "outputs": [
        {
          "output_type": "stream",
          "text": [
            "/usr/local/lib/python3.6/dist-packages/sklearn/ensemble/forest.py:246: FutureWarning: The default value of n_estimators will change from 10 in version 0.20 to 100 in 0.22.\n",
            "  \"10 in version 0.20 to 100 in 0.22.\", FutureWarning)\n",
            "/usr/local/lib/python3.6/dist-packages/ipykernel_launcher.py:1: DataConversionWarning: A column-vector y was passed when a 1d array was expected. Please change the shape of y to (n_samples,), for example using ravel().\n",
            "  \"\"\"Entry point for launching an IPython kernel.\n"
          ],
          "name": "stderr"
        }
      ]
    },
    {
      "metadata": {
        "id": "kGSzh7-EZfFM",
        "colab_type": "code",
        "outputId": "397310c6-1b9a-40b5-e261-aff69b760699",
        "colab": {
          "base_uri": "https://localhost:8080/",
          "height": 34
        }
      },
      "cell_type": "code",
      "source": [
        "# Find the MSE.  We are going to square the data in order to find the actual difference between predicted and actual.\n",
        "# Based on the MSE here, we are about 2 units off.  Compared to a mean of about -0.5, this is a lot.\n",
        "# Now let's plot our predicted vs. actual in order to visualize how well our model is going.\n",
        "\n",
        "np.sqrt(mean_squared_error(testY.values.reshape(-1, 1), rf.predict(testX.values.reshape(-1, 1))))"
      ],
      "execution_count": 17,
      "outputs": [
        {
          "output_type": "execute_result",
          "data": {
            "text/plain": [
              "2.058459225904149"
            ]
          },
          "metadata": {
            "tags": []
          },
          "execution_count": 17
        }
      ]
    },
    {
      "metadata": {
        "id": "VRNn4xD5ZvGo",
        "colab_type": "code",
        "colab": {}
      },
      "cell_type": "code",
      "source": [
        "preds = rf.predict(testX.values.reshape(-1, 1))"
      ],
      "execution_count": 0,
      "outputs": []
    },
    {
      "metadata": {
        "id": "uNN_wTFnZ1Pr",
        "colab_type": "code",
        "outputId": "983d0d34-773a-4825-f68c-54047a8707a8",
        "colab": {
          "base_uri": "https://localhost:8080/",
          "height": 282
        }
      },
      "cell_type": "code",
      "source": [
        "plt.plot([a for a in range(len(preds))], preds, label='model')\n",
        "plt.plot([a for a in range(len(testX))], testY, label='actual')\n",
        "plt.legend()"
      ],
      "execution_count": 19,
      "outputs": [
        {
          "output_type": "execute_result",
          "data": {
            "text/plain": [
              "<matplotlib.legend.Legend at 0x7f6a1f8f2780>"
            ]
          },
          "metadata": {
            "tags": []
          },
          "execution_count": 19
        },
        {
          "output_type": "display_data",
          "data": {
            "image/png": "[encoded data removed]",
            "text/plain": [
              "<matplotlib.figure.Figure at 0x7f6a1f9d55f8>"
            ]
          },
          "metadata": {
            "tags": []
          }
        }
      ]
    },
    {
      "metadata": {
        "id": "QUJjE59em4f1",
        "colab_type": "text"
      },
      "cell_type": "markdown",
      "source": [
        "## The End"
      ]
    }
  ]
}